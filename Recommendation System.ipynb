{
 "cells": [
  {
   "cell_type": "code",
   "execution_count": 33,
   "metadata": {},
   "outputs": [],
   "source": [
    "import pandas as pd\n",
    "import random\n",
    "from tqdm import tqdm\n",
    "import numpy as np\n",
    "\n",
    "from gensim.models import Word2Vec \n",
    "import matplotlib.pyplot as plt\n",
    "%matplotlib inline\n",
    "\n",
    "import warnings;\n",
    "warnings.filterwarnings('ignore')"
   ]
  },
  {
   "cell_type": "code",
   "execution_count": 3,
   "metadata": {},
   "outputs": [],
   "source": [
    "df = pd.read_excel('./Data/Online_Retail.xlsx')"
   ]
  },
  {
   "cell_type": "code",
   "execution_count": 4,
   "metadata": {},
   "outputs": [
    {
     "data": {
      "text/html": [
       "<div>\n",
       "<style scoped>\n",
       "    .dataframe tbody tr th:only-of-type {\n",
       "        vertical-align: middle;\n",
       "    }\n",
       "\n",
       "    .dataframe tbody tr th {\n",
       "        vertical-align: top;\n",
       "    }\n",
       "\n",
       "    .dataframe thead th {\n",
       "        text-align: right;\n",
       "    }\n",
       "</style>\n",
       "<table border=\"1\" class=\"dataframe\">\n",
       "  <thead>\n",
       "    <tr style=\"text-align: right;\">\n",
       "      <th></th>\n",
       "      <th>InvoiceNo</th>\n",
       "      <th>StockCode</th>\n",
       "      <th>Description</th>\n",
       "      <th>Quantity</th>\n",
       "      <th>InvoiceDate</th>\n",
       "      <th>UnitPrice</th>\n",
       "      <th>CustomerID</th>\n",
       "      <th>Country</th>\n",
       "    </tr>\n",
       "  </thead>\n",
       "  <tbody>\n",
       "    <tr>\n",
       "      <th>0</th>\n",
       "      <td>536365</td>\n",
       "      <td>85123A</td>\n",
       "      <td>WHITE HANGING HEART T-LIGHT HOLDER</td>\n",
       "      <td>6</td>\n",
       "      <td>2010-12-01 08:26:00</td>\n",
       "      <td>2.55</td>\n",
       "      <td>17850.0</td>\n",
       "      <td>United Kingdom</td>\n",
       "    </tr>\n",
       "    <tr>\n",
       "      <th>1</th>\n",
       "      <td>536365</td>\n",
       "      <td>71053</td>\n",
       "      <td>WHITE METAL LANTERN</td>\n",
       "      <td>6</td>\n",
       "      <td>2010-12-01 08:26:00</td>\n",
       "      <td>3.39</td>\n",
       "      <td>17850.0</td>\n",
       "      <td>United Kingdom</td>\n",
       "    </tr>\n",
       "    <tr>\n",
       "      <th>2</th>\n",
       "      <td>536365</td>\n",
       "      <td>84406B</td>\n",
       "      <td>CREAM CUPID HEARTS COAT HANGER</td>\n",
       "      <td>8</td>\n",
       "      <td>2010-12-01 08:26:00</td>\n",
       "      <td>2.75</td>\n",
       "      <td>17850.0</td>\n",
       "      <td>United Kingdom</td>\n",
       "    </tr>\n",
       "    <tr>\n",
       "      <th>3</th>\n",
       "      <td>536365</td>\n",
       "      <td>84029G</td>\n",
       "      <td>KNITTED UNION FLAG HOT WATER BOTTLE</td>\n",
       "      <td>6</td>\n",
       "      <td>2010-12-01 08:26:00</td>\n",
       "      <td>3.39</td>\n",
       "      <td>17850.0</td>\n",
       "      <td>United Kingdom</td>\n",
       "    </tr>\n",
       "    <tr>\n",
       "      <th>4</th>\n",
       "      <td>536365</td>\n",
       "      <td>84029E</td>\n",
       "      <td>RED WOOLLY HOTTIE WHITE HEART.</td>\n",
       "      <td>6</td>\n",
       "      <td>2010-12-01 08:26:00</td>\n",
       "      <td>3.39</td>\n",
       "      <td>17850.0</td>\n",
       "      <td>United Kingdom</td>\n",
       "    </tr>\n",
       "  </tbody>\n",
       "</table>\n",
       "</div>"
      ],
      "text/plain": [
       "  InvoiceNo StockCode                          Description  Quantity  \\\n",
       "0    536365    85123A   WHITE HANGING HEART T-LIGHT HOLDER         6   \n",
       "1    536365     71053                  WHITE METAL LANTERN         6   \n",
       "2    536365    84406B       CREAM CUPID HEARTS COAT HANGER         8   \n",
       "3    536365    84029G  KNITTED UNION FLAG HOT WATER BOTTLE         6   \n",
       "4    536365    84029E       RED WOOLLY HOTTIE WHITE HEART.         6   \n",
       "\n",
       "          InvoiceDate  UnitPrice  CustomerID         Country  \n",
       "0 2010-12-01 08:26:00       2.55     17850.0  United Kingdom  \n",
       "1 2010-12-01 08:26:00       3.39     17850.0  United Kingdom  \n",
       "2 2010-12-01 08:26:00       2.75     17850.0  United Kingdom  \n",
       "3 2010-12-01 08:26:00       3.39     17850.0  United Kingdom  \n",
       "4 2010-12-01 08:26:00       3.39     17850.0  United Kingdom  "
      ]
     },
     "execution_count": 4,
     "metadata": {},
     "output_type": "execute_result"
    }
   ],
   "source": [
    "df.head(5)"
   ]
  },
  {
   "cell_type": "code",
   "execution_count": 6,
   "metadata": {},
   "outputs": [
    {
     "name": "stdout",
     "output_type": "stream",
     "text": [
      "The dataset contains 541909 transactions. And its a good amount of data to train our model\n"
     ]
    }
   ],
   "source": [
    "print(\"The dataset contains %d transactions. And its a good amount of data to train our model\" %df.shape[0])"
   ]
  },
  {
   "cell_type": "code",
   "execution_count": 7,
   "metadata": {},
   "outputs": [
    {
     "data": {
      "text/plain": [
       "InvoiceNo           0\n",
       "StockCode           0\n",
       "Description      1454\n",
       "Quantity            0\n",
       "InvoiceDate         0\n",
       "UnitPrice           0\n",
       "CustomerID     135080\n",
       "Country             0\n",
       "dtype: int64"
      ]
     },
     "execution_count": 7,
     "metadata": {},
     "output_type": "execute_result"
    }
   ],
   "source": [
    "df.isna().sum()"
   ]
  },
  {
   "cell_type": "code",
   "execution_count": 9,
   "metadata": {},
   "outputs": [],
   "source": [
    "df.dropna(inplace=True)"
   ]
  },
  {
   "cell_type": "code",
   "execution_count": 10,
   "metadata": {},
   "outputs": [],
   "source": [
    "df.StockCode = df.StockCode.astype(str)"
   ]
  },
  {
   "cell_type": "code",
   "execution_count": 13,
   "metadata": {},
   "outputs": [
    {
     "name": "stdout",
     "output_type": "stream",
     "text": [
      "The Dataset contains 4372 unique customers\n"
     ]
    }
   ],
   "source": [
    "customers = df.CustomerID.unique()\n",
    "print(\"The Dataset contains %d unique customers\" %len(customers))"
   ]
  },
  {
   "cell_type": "code",
   "execution_count": 19,
   "metadata": {},
   "outputs": [],
   "source": [
    "random.shuffle(customers)\n",
    "\n",
    "customers_train = [customers[i] for i in range(int(0.9*len(customers)))]\n",
    "\n",
    "train_df = df[df.CustomerID.isin(customers_train)]\n",
    "validation_df = df[~df.CustomerID.isin(customers_train)]"
   ]
  },
  {
   "cell_type": "code",
   "execution_count": 31,
   "metadata": {
    "scrolled": true
   },
   "outputs": [
    {
     "name": "stderr",
     "output_type": "stream",
     "text": [
      "\n",
      "\n",
      "  0%|          | 0/3934 [00:00<?, ?it/s]\u001b[A\u001b[A\n",
      "\n",
      "  2%|▏         | 73/3934 [00:00<00:05, 726.00it/s]\u001b[A\u001b[A\n",
      "\n",
      "  4%|▍         | 152/3934 [00:00<00:05, 742.91it/s]\u001b[A\u001b[A\n",
      "\n",
      "  6%|▌         | 232/3934 [00:00<00:04, 757.05it/s]\u001b[A\u001b[A\n",
      "\n",
      "  8%|▊         | 311/3934 [00:00<00:04, 764.13it/s]\u001b[A\u001b[A\n",
      "\n",
      " 10%|▉         | 389/3934 [00:00<00:04, 767.98it/s]\u001b[A\u001b[A\n",
      "\n",
      " 12%|█▏        | 469/3934 [00:00<00:04, 774.78it/s]\u001b[A\u001b[A\n",
      "\n",
      " 14%|█▍        | 548/3934 [00:00<00:04, 776.74it/s]\u001b[A\u001b[A\n",
      "\n",
      " 16%|█▌        | 628/3934 [00:00<00:04, 783.48it/s]\u001b[A\u001b[A\n",
      "\n",
      " 18%|█▊        | 707/3934 [00:00<00:04, 785.18it/s]\u001b[A\u001b[A\n",
      "\n",
      " 20%|██        | 787/3934 [00:01<00:03, 787.10it/s]\u001b[A\u001b[A\n",
      "\n",
      " 22%|██▏       | 864/3934 [00:01<00:03, 777.99it/s]\u001b[A\u001b[A\n",
      "\n",
      " 24%|██▍       | 941/3934 [00:01<00:04, 723.73it/s]\u001b[A\u001b[A\n",
      "\n",
      " 26%|██▌       | 1014/3934 [00:01<00:04, 688.47it/s]\u001b[A\u001b[A\n",
      "\n",
      " 28%|██▊       | 1084/3934 [00:01<00:04, 673.33it/s]\u001b[A\u001b[A\n",
      "\n",
      " 30%|██▉       | 1163/3934 [00:01<00:03, 703.63it/s]\u001b[A\u001b[A\n",
      "\n",
      " 31%|███▏      | 1234/3934 [00:01<00:03, 681.21it/s]\u001b[A\u001b[A\n",
      "\n",
      " 33%|███▎      | 1303/3934 [00:01<00:03, 667.18it/s]\u001b[A\u001b[A\n",
      "\n",
      " 35%|███▍      | 1371/3934 [00:01<00:03, 647.15it/s]\u001b[A\u001b[A\n",
      "\n",
      " 37%|███▋      | 1439/3934 [00:01<00:03, 655.80it/s]\u001b[A\u001b[A\n",
      "\n",
      " 38%|███▊      | 1514/3934 [00:02<00:03, 680.63it/s]\u001b[A\u001b[A\n",
      "\n",
      " 40%|████      | 1589/3934 [00:02<00:03, 698.81it/s]\u001b[A\u001b[A\n",
      "\n",
      " 42%|████▏     | 1668/3934 [00:02<00:03, 721.64it/s]\u001b[A\u001b[A\n",
      "\n",
      " 44%|████▍     | 1746/3934 [00:02<00:02, 737.49it/s]\u001b[A\u001b[A\n",
      "\n",
      " 46%|████▋     | 1821/3934 [00:02<00:02, 723.46it/s]\u001b[A\u001b[A\n",
      "\n",
      " 48%|████▊     | 1894/3934 [00:02<00:02, 706.00it/s]\u001b[A\u001b[A\n",
      "\n",
      " 50%|█████     | 1974/3934 [00:02<00:02, 731.39it/s]\u001b[A\u001b[A\n",
      "\n",
      " 52%|█████▏    | 2058/3934 [00:02<00:02, 758.81it/s]\u001b[A\u001b[A\n",
      "\n",
      " 54%|█████▍    | 2136/3934 [00:02<00:02, 762.82it/s]\u001b[A\u001b[A\n",
      "\n",
      " 56%|█████▋    | 2213/3934 [00:03<00:02, 751.49it/s]\u001b[A\u001b[A\n",
      "\n",
      " 58%|█████▊    | 2290/3934 [00:03<00:02, 756.61it/s]\u001b[A\u001b[A\n",
      "\n",
      " 60%|██████    | 2375/3934 [00:03<00:01, 779.95it/s]\u001b[A\u001b[A\n",
      "\n",
      " 62%|██████▏   | 2457/3934 [00:03<00:01, 791.55it/s]\u001b[A\u001b[A\n",
      "\n",
      " 65%|██████▍   | 2539/3934 [00:03<00:01, 799.27it/s]\u001b[A\u001b[A\n",
      "\n",
      " 67%|██████▋   | 2620/3934 [00:03<00:01, 786.98it/s]\u001b[A\u001b[A\n",
      "\n",
      " 69%|██████▊   | 2699/3934 [00:03<00:01, 772.91it/s]\u001b[A\u001b[A\n",
      "\n",
      " 71%|███████   | 2777/3934 [00:03<00:01, 768.71it/s]\u001b[A\u001b[A\n",
      "\n",
      " 73%|███████▎  | 2857/3934 [00:03<00:01, 774.78it/s]\u001b[A\u001b[A\n",
      "\n",
      " 75%|███████▍  | 2935/3934 [00:03<00:01, 766.93it/s]\u001b[A\u001b[A\n",
      "\n",
      " 77%|███████▋  | 3013/3934 [00:04<00:01, 769.58it/s]\u001b[A\u001b[A\n",
      "\n",
      " 79%|███████▊  | 3091/3934 [00:04<00:01, 761.45it/s]\u001b[A\u001b[A\n",
      "\n",
      " 81%|████████  | 3168/3934 [00:04<00:01, 755.82it/s]\u001b[A\u001b[A\n",
      "\n",
      " 83%|████████▎ | 3248/3934 [00:04<00:00, 766.41it/s]\u001b[A\u001b[A\n",
      "\n",
      " 85%|████████▍ | 3325/3934 [00:04<00:00, 757.20it/s]\u001b[A\u001b[A\n",
      "\n",
      " 87%|████████▋ | 3403/3934 [00:04<00:00, 763.84it/s]\u001b[A\u001b[A\n",
      "\n",
      " 88%|████████▊ | 3480/3934 [00:04<00:00, 757.69it/s]\u001b[A\u001b[A\n",
      "\n",
      " 90%|█████████ | 3556/3934 [00:04<00:00, 745.25it/s]\u001b[A\u001b[A\n",
      "\n",
      " 92%|█████████▏| 3636/3934 [00:04<00:00, 759.69it/s]\u001b[A\u001b[A\n",
      "\n",
      " 95%|█████████▍| 3722/3934 [00:04<00:00, 784.94it/s]\u001b[A\u001b[A\n",
      "\n",
      " 97%|█████████▋| 3801/3934 [00:05<00:00, 777.20it/s]\u001b[A\u001b[A\n",
      "\n",
      " 99%|█████████▊| 3882/3934 [00:05<00:00, 785.87it/s]\u001b[A\u001b[A\n",
      "\n",
      "100%|██████████| 3934/3934 [00:05<00:00, 749.05it/s]\u001b[A\u001b[A"
     ]
    }
   ],
   "source": [
    "purchases_train = []\n",
    "\n",
    "\n",
    "for i in tqdm(customers_train):\n",
    "    temp = train_df[train_df[\"CustomerID\"] == i][\"StockCode\"].tolist()\n",
    "    purchases_train.append(temp)"
   ]
  },
  {
   "cell_type": "code",
   "execution_count": 26,
   "metadata": {},
   "outputs": [
    {
     "name": "stderr",
     "output_type": "stream",
     "text": [
      "100%|██████████| 438/438 [00:00<00:00, 1259.83it/s]\n"
     ]
    }
   ],
   "source": [
    "purchases_val = []\n",
    "\n",
    "for i in tqdm(validation_df.CustomerID.unique()):\n",
    "    print()\n",
    "    temp = validation_df[validation_df.CustomerID == i].StockCode.tolist()\n",
    "    purchases_val.append(temp)"
   ]
  },
  {
   "cell_type": "code",
   "execution_count": 37,
   "metadata": {},
   "outputs": [
    {
     "data": {
      "text/plain": [
       "(3595584, 3633050)"
      ]
     },
     "execution_count": 37,
     "metadata": {},
     "output_type": "execute_result"
    }
   ],
   "source": [
    "model = Word2Vec(window = 10, sg = 1, hs =0,\n",
    "                negative = 10, \n",
    "                alpha = 0.03, min_alpha=0.0007,\n",
    "                seed=14)\n",
    "\n",
    "model.build_vocab(purchases_train, progress_per=200)\n",
    "\n",
    "model.train(purchases_train, total_examples=model.corpus_count,\n",
    "           epochs=10, report_delay=1)"
   ]
  },
  {
   "cell_type": "code",
   "execution_count": 38,
   "metadata": {},
   "outputs": [],
   "source": [
    "model.init_sims(replace=True)"
   ]
  },
  {
   "cell_type": "code",
   "execution_count": 39,
   "metadata": {},
   "outputs": [
    {
     "name": "stdout",
     "output_type": "stream",
     "text": [
      "Word2Vec(vocab=3174, size=100, alpha=0.03)\n"
     ]
    }
   ],
   "source": [
    "print(model)"
   ]
  },
  {
   "cell_type": "code",
   "execution_count": 40,
   "metadata": {},
   "outputs": [
    {
     "data": {
      "text/plain": [
       "(3174, 100)"
      ]
     },
     "execution_count": 40,
     "metadata": {},
     "output_type": "execute_result"
    }
   ],
   "source": [
    "X = model[model.wv.vocab]\n",
    "\n",
    "X.shape"
   ]
  },
  {
   "cell_type": "code",
   "execution_count": 43,
   "metadata": {},
   "outputs": [
    {
     "data": {
      "text/plain": [
       "<matplotlib.collections.PathCollection at 0x7f7c26d9a5c0>"
      ]
     },
     "execution_count": 43,
     "metadata": {},
     "output_type": "execute_result"
    },
    {
     "data": {
      "image/png": "[encoded data removed]",
      "text/plain": [
       "<Figure size 720x648 with 1 Axes>"
      ]
     },
     "metadata": {
      "needs_background": "light"
     },
     "output_type": "display_data"
    }
   ],
   "source": [
    "import umap\n",
    "\n",
    "cluster_embedding = umap.UMAP(n_neighbors=30, min_dist=0.0,\n",
    "                              n_components=2, random_state=42).fit_transform(X)\n",
    "\n",
    "plt.figure(figsize=(10,9))\n",
    "plt.scatter(cluster_embedding[:, 0], cluster_embedding[:, 1], s=3, cmap='Spectral')"
   ]
  },
  {
   "cell_type": "code",
   "execution_count": 45,
   "metadata": {},
   "outputs": [],
   "source": [
    "products = train_df[[\"StockCode\", \"Description\"]]\n",
    "\n",
    "# remove duplicates\n",
    "products.drop_duplicates(inplace=True, subset='StockCode', keep=\"last\")\n",
    "\n",
    "# create product-ID and product-description dictionary\n",
    "products_dict = products.groupby('StockCode')['Description'].apply(list).to_dict()"
   ]
  },
  {
   "cell_type": "code",
   "execution_count": 46,
   "metadata": {},
   "outputs": [
    {
     "data": {
      "text/plain": [
       "['RED WOOLLY HOTTIE WHITE HEART.']"
      ]
     },
     "execution_count": 46,
     "metadata": {},
     "output_type": "execute_result"
    }
   ],
   "source": [
    "products_dict['84029E']"
   ]
  },
  {
   "cell_type": "code",
   "execution_count": 47,
   "metadata": {},
   "outputs": [],
   "source": [
    "def similar_products(v, n = 6):\n",
    "    \n",
    "    # extract most similar products for the input vector\n",
    "    ms = model.similar_by_vector(v, topn= n+1)[1:]\n",
    "    \n",
    "    # extract name and similarity score of the similar products\n",
    "    new_ms = []\n",
    "    for j in ms:\n",
    "        pair = (products_dict[j[0]][0], j[1])\n",
    "        new_ms.append(pair)\n",
    "        \n",
    "    return new_ms   "
   ]
  },
  {
   "cell_type": "code",
   "execution_count": 48,
   "metadata": {},
   "outputs": [
    {
     "data": {
      "text/plain": [
       "[('SILVER M.O.P ORBIT DROP EARRINGS', 0.8122975826263428),\n",
       " ('JADE DROP EARRINGS W FILIGREE', 0.7800703644752502),\n",
       " ('GOLD/M.O.P PENDANT ORBIT NECKLACE', 0.7736604809761047),\n",
       " ('AMBER DROP EARRINGS W LONG BEADS', 0.7625695466995239),\n",
       " ('BLUE MURANO TWIST BRACELET', 0.7519446611404419),\n",
       " ('ANT COPPER RED BOUDICCA BRACELET', 0.7512853741645813)]"
      ]
     },
     "execution_count": 48,
     "metadata": {},
     "output_type": "execute_result"
    }
   ],
   "source": [
    "similar_products(model['90019A'])"
   ]
  },
  {
   "cell_type": "code",
   "execution_count": null,
   "metadata": {},
   "outputs": [],
   "source": []
  }
 ],
 "metadata": {
  "kernelspec": {
   "display_name": "Python 3",
   "language": "python",
   "name": "python3"
  },
  "language_info": {
   "codemirror_mode": {
    "name": "ipython",
    "version": 3
   },
   "file_extension": ".py",
   "mimetype": "text/x-python",
   "name": "python",
   "nbconvert_exporter": "python",
   "pygments_lexer": "ipython3",
   "version": "3.7.3"
  }
 },
 "nbformat": 4,
 "nbformat_minor": 2
}
